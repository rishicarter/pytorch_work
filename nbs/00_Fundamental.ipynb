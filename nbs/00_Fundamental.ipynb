{
 "cells": [
  {
   "cell_type": "markdown",
   "id": "f31130ad-7b6f-4bf2-9d80-5edb08bba489",
   "metadata": {},
   "source": [
    "# Pytorch Fundamental Exercise"
   ]
  },
  {
   "cell_type": "markdown",
   "id": "dd5c530f-7809-4a20-b94a-e18dd3a3d9a1",
   "metadata": {},
   "source": [
    "## Imports"
   ]
  },
  {
   "cell_type": "code",
   "execution_count": 1,
   "id": "6e055618-daa1-4b58-968e-12303a79a722",
   "metadata": {},
   "outputs": [],
   "source": [
    "import torch\n",
    "\n",
    "device = \"cuda\" if torch.cuda.is_available() else \"cpu\""
   ]
  },
  {
   "cell_type": "markdown",
   "id": "5fc6a8b1-9a16-4843-b2fe-daf81d13a44e",
   "metadata": {},
   "source": [
    "## Solutions"
   ]
  },
  {
   "cell_type": "code",
   "execution_count": 3,
   "id": "5084cb77-f49e-4e1f-b48a-9c409485b820",
   "metadata": {},
   "outputs": [
    {
     "data": {
      "text/plain": [
       "tensor([[0.3181, 0.4843, 0.8746, 0.4638, 0.4209, 0.8313, 0.1065],\n",
       "        [0.4475, 0.5417, 0.7295, 0.1663, 0.4885, 0.8831, 0.6722],\n",
       "        [0.1504, 0.0807, 0.8404, 0.8825, 0.3805, 0.8893, 0.0186],\n",
       "        [0.1768, 0.9199, 0.5550, 0.9529, 0.8266, 0.1321, 0.3548],\n",
       "        [0.4901, 0.3511, 0.2107, 0.2153, 0.5547, 0.0352, 0.2321],\n",
       "        [0.8007, 0.7544, 0.3950, 0.8015, 0.4258, 0.3024, 0.8069],\n",
       "        [0.6086, 0.9990, 0.3818, 0.1849, 0.7068, 0.1792, 0.9427]])"
      ]
     },
     "execution_count": 3,
     "metadata": {},
     "output_type": "execute_result"
    }
   ],
   "source": [
    "# Create a random tensor with shape (7, 7)\n",
    "a = torch.rand(7,7)\n",
    "a"
   ]
  },
  {
   "cell_type": "code",
   "execution_count": 4,
   "id": "f6a6f7d5-3768-434a-b83c-153a7c5b080f",
   "metadata": {},
   "outputs": [
    {
     "data": {
      "text/plain": [
       "tensor([[0.0533, 0.4068, 0.8471, 0.8143, 0.4625, 0.9088, 0.4109]])"
      ]
     },
     "execution_count": 4,
     "metadata": {},
     "output_type": "execute_result"
    }
   ],
   "source": [
    "# Perform a matrix multiplication on the tensor from 2 with another random tensor with shape (1, 7) (hint: you may have to transpose the second tensor)\n",
    "b = torch.rand(1,7)\n",
    "b"
   ]
  },
  {
   "cell_type": "code",
   "execution_count": 5,
   "id": "4878fa9b-0e18-4387-aa33-876242e8fea4",
   "metadata": {},
   "outputs": [
    {
     "data": {
      "text/plain": [
       "(tensor([[2.3264],\n",
       "         [2.3023],\n",
       "         [2.4631],\n",
       "         [2.2779],\n",
       "         [0.9066],\n",
       "         [2.1402],\n",
       "         [1.7898]]),\n",
       " tensor([[1.6748, 2.3221, 2.1205, 2.5199, 2.1506, 1.6291, 1.8118]]))"
      ]
     },
     "execution_count": 5,
     "metadata": {},
     "output_type": "execute_result"
    }
   ],
   "source": [
    "res1 = torch.matmul(a,b.T)\n",
    "res2 = torch.matmul(b,a)\n",
    "res1, res2"
   ]
  },
  {
   "cell_type": "code",
   "execution_count": 28,
   "id": "9bf58371-755c-4e90-aaa2-a2eccb8f9f98",
   "metadata": {},
   "outputs": [
    {
     "data": {
      "text/plain": [
       "(tensor([[1.5985],\n",
       "         [1.1173],\n",
       "         [1.2741],\n",
       "         [1.6838],\n",
       "         [0.8279],\n",
       "         [1.0347],\n",
       "         [1.2498]]),\n",
       " tensor([[1.4453, 1.0926, 1.4581, 1.3235, 1.4729, 1.2880, 0.7752]]))"
      ]
     },
     "execution_count": 28,
     "metadata": {},
     "output_type": "execute_result"
    }
   ],
   "source": [
    "#Set the random seed to 0 and do exercises 2 & 3 over again\n",
    "torch.manual_seed(0)\n",
    "a = torch.rand(7,7)\n",
    "torch.manual_seed(0)\n",
    "b = torch.rand(1,7)\n",
    "res1 = torch.matmul(a,b.T)\n",
    "res2 = torch.matmul(b,a)\n",
    "res1, res2"
   ]
  },
  {
   "cell_type": "code",
   "execution_count": 46,
   "id": "0a01872d-f781-4725-881b-f2415b3b0326",
   "metadata": {},
   "outputs": [
    {
     "data": {
      "text/plain": [
       "tensor([[0.9792, 0.8358],\n",
       "        [0.8358, 1.4578]], device='cuda:0')"
      ]
     },
     "execution_count": 46,
     "metadata": {},
     "output_type": "execute_result"
    }
   ],
   "source": [
    "torch.cuda.manual_seed(1234)\n",
    "a = torch.rand(2,3, device=device)\n",
    "torch.cuda.manual_seed(1234)\n",
    "b = torch.rand(2,3, device=device)\n",
    "res1 = torch.matmul(a,b.T)\n",
    "res1"
   ]
  },
  {
   "cell_type": "code",
   "execution_count": 47,
   "id": "1b45fa0e-5e46-4568-a4d0-1facfbac2db6",
   "metadata": {},
   "outputs": [
    {
     "data": {
      "text/plain": [
       "(tensor(0.8358, device='cuda:0'),\n",
       " tensor(1.4578, device='cuda:0'),\n",
       " tensor(1, device='cuda:0'),\n",
       " tensor(3, device='cuda:0'))"
      ]
     },
     "execution_count": 47,
     "metadata": {},
     "output_type": "execute_result"
    }
   ],
   "source": [
    "res1.min(),res1.max(), res1.argmin(), res1.argmax()"
   ]
  },
  {
   "cell_type": "code",
   "execution_count": 51,
   "id": "86859979-7ace-4923-8037-fe468a53ed03",
   "metadata": {},
   "outputs": [
    {
     "data": {
      "text/plain": [
       "(tensor([[[[0.9546, 0.4950, 0.9420, 0.5926, 0.6996, 0.2087, 0.6753, 0.4810,\n",
       "            0.6333, 0.5733]]]], device='cuda:0'),\n",
       " torch.Size([1, 1, 1, 10]),\n",
       " tensor([0.9546, 0.4950, 0.9420, 0.5926, 0.6996, 0.2087, 0.6753, 0.4810, 0.6333,\n",
       "         0.5733], device='cuda:0'),\n",
       " torch.Size([10]))"
      ]
     },
     "execution_count": 51,
     "metadata": {},
     "output_type": "execute_result"
    }
   ],
   "source": [
    "torch.cuda.manual_seed(7)\n",
    "a = torch.rand((1,1,1,10), device=device)\n",
    "b = torch.squeeze(a)\n",
    "a, a.shape, b, b.shape"
   ]
  },
  {
   "cell_type": "code",
   "execution_count": null,
   "id": "b40d429e-ff23-4499-8b97-681d21358b46",
   "metadata": {},
   "outputs": [],
   "source": []
  },
  {
   "cell_type": "code",
   "execution_count": null,
   "id": "728e772c-8b8c-42a8-bccb-8c5a8ff6f7c7",
   "metadata": {},
   "outputs": [],
   "source": []
  }
 ],
 "metadata": {
  "kernelspec": {
   "display_name": "Python 3 (ipykernel)",
   "language": "python",
   "name": "python3"
  },
  "language_info": {
   "codemirror_mode": {
    "name": "ipython",
    "version": 3
   },
   "file_extension": ".py",
   "mimetype": "text/x-python",
   "name": "python",
   "nbconvert_exporter": "python",
   "pygments_lexer": "ipython3",
   "version": "3.12.6"
  }
 },
 "nbformat": 4,
 "nbformat_minor": 5
}
